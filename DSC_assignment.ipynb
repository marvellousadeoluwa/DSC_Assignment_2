{
 "cells": [
  {
   "cell_type": "code",
   "execution_count": 1,
   "metadata": {},
   "outputs": [
    {
     "name": "stdout",
     "output_type": "stream",
     "text": [
      "Number of Trials allowed: 2\n",
      "\n",
      "Enter Letter: a\n",
      "Random word is: 'happy'\n",
      "\n",
      "You are correct! 'a' appears in 'happy' 1 time(s)\n",
      "\n",
      "Do you want to play the Hangman game again? yes\n",
      "Number of Trials allowed: 1\n",
      "\n",
      "Enter Letter: z\n",
      "Sorry, You are wrong! 'z' does not appears in the word 'holiday'\n",
      "\n",
      "Do you want to try again(Yes, yes or y)? yes\n",
      "Oh! Sorry, number of trial exceeded.\n"
     ]
    }
   ],
   "source": [
    "#Hangman\n",
    "word_guesses = [\"happy\",\"name\",\"times\", \"developers\",\"holiday\",\"technlogy\",\"learning\"]\n",
    "\n",
    "def Random_Guess():\n",
    "    import random\n",
    "    rand_word = random.choice(word_guesses)\n",
    "    return rand_word\n",
    "    \n",
    "def Hang_Man(trial): \n",
    "    if trial == 0:\n",
    "        print (\"Oh! Sorry, number of trial exceeded.\")\n",
    "    else:\n",
    "        letter = str(input(\"\\nEnter Letter: \"))\n",
    "        word = Random_Guess()\n",
    "        \n",
    "        if (len(letter) == 1):\n",
    "            if letter in word:\n",
    "                print (\"Random word is: '{}'\".format(word))\n",
    "                count = word.count(letter)\n",
    "                index = word.index(letter)\n",
    "                print(\"\\nYou are correct! '{}' appears in '{}' {} time(s)\".format(letter,word,count))\n",
    "                #return \"-\"*(index),\"{}\",\"-\"*(len(word)-index)\n",
    "                \n",
    "            else:\n",
    "                print(\"Sorry, You are wrong! '{}' does not appears in the word '{}'\".format(letter,word))\n",
    "                again = input(\"\\nDo you want to try again(Yes, yes or y)? \")\n",
    "                if (again == \"Yes\" or again == \"yes\" or again == \"y\"):\n",
    "                    Hang_Man(trial-1)\n",
    "                else:\n",
    "                    print(\"Invalid response! Game exited\")   \n",
    "        else:\n",
    "            print (\"User letter input is more than 1. Game Exited\")\n",
    "            \n",
    "trial = int(input(\"Number of Trials allowed: \")) \n",
    "Hang_Man(trial)\n",
    "\n",
    "again = input(\"\\nDo you want to play the Hangman game again? \")\n",
    "if (again == \"Yes\" or again == \"yes\" or again == \"y\"):\n",
    "    trial = int(input(\"Number of Trials allowed: \"))\n",
    "    Hang_Man(trial)\n",
    "else:\n",
    "    print(\"Thank you for playing!\")\n"
   ]
  },
  {
   "cell_type": "code",
   "execution_count": null,
   "metadata": {},
   "outputs": [],
   "source": []
  },
  {
   "cell_type": "code",
   "execution_count": null,
   "metadata": {},
   "outputs": [],
   "source": []
  }
 ],
 "metadata": {
  "kernelspec": {
   "display_name": "Python 3",
   "language": "python",
   "name": "python3"
  },
  "language_info": {
   "codemirror_mode": {
    "name": "ipython",
    "version": 3
   },
   "file_extension": ".py",
   "mimetype": "text/x-python",
   "name": "python",
   "nbconvert_exporter": "python",
   "pygments_lexer": "ipython3",
   "version": "3.7.0"
  }
 },
 "nbformat": 4,
 "nbformat_minor": 2
}
